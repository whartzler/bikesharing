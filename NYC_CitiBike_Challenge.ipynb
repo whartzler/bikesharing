{
 "cells": [
  {
   "cell_type": "code",
   "execution_count": 1,
   "metadata": {},
   "outputs": [],
   "source": [
    "import pandas as pd\n",
    "from datetime import datetime as dt"
   ]
  },
  {
   "cell_type": "code",
   "execution_count": 2,
   "metadata": {},
   "outputs": [],
   "source": [
    "# 1. Create a DataFrame for the 201908-citibike-tripdata data. \n",
    "citibike_tripdata_df = pd.read_csv('201908-citibike-tripdata.csv')"
   ]
  },
  {
   "cell_type": "code",
   "execution_count": 3,
   "metadata": {},
   "outputs": [
    {
     "name": "stdout",
     "output_type": "stream",
     "text": [
      "<class 'pandas.core.frame.DataFrame'>\n",
      "RangeIndex: 2344224 entries, 0 to 2344223\n",
      "Data columns (total 15 columns):\n",
      " #   Column                   Dtype  \n",
      "---  ------                   -----  \n",
      " 0   tripduration             int64  \n",
      " 1   starttime                object \n",
      " 2   stoptime                 object \n",
      " 3   start station id         float64\n",
      " 4   start station name       object \n",
      " 5   start station latitude   float64\n",
      " 6   start station longitude  float64\n",
      " 7   end station id           float64\n",
      " 8   end station name         object \n",
      " 9   end station latitude     float64\n",
      " 10  end station longitude    float64\n",
      " 11  bikeid                   int64  \n",
      " 12  usertype                 object \n",
      " 13  birth year               int64  \n",
      " 14  gender                   int64  \n",
      "dtypes: float64(6), int64(4), object(5)\n",
      "memory usage: 268.3+ MB\n"
     ]
    }
   ],
   "source": [
    "# 2. Check the datatypes of your columns. \n",
    "citibike_tripdata_df.info()"
   ]
  },
  {
   "cell_type": "code",
   "execution_count": 4,
   "metadata": {},
   "outputs": [],
   "source": [
    "# 3. Convert the 'tripduration' column to datetime datatype.\n",
    "citibike_tripdata_df['tripduration'] = pd.to_datetime(citibike_tripdata_df['tripduration'], unit='s').dt.strftime('%Y-%m-%d %H:%M:%S')"
   ]
  },
  {
   "cell_type": "code",
   "execution_count": 5,
   "metadata": {},
   "outputs": [
    {
     "name": "stdout",
     "output_type": "stream",
     "text": [
      "<class 'pandas.core.frame.DataFrame'>\n",
      "RangeIndex: 2344224 entries, 0 to 2344223\n",
      "Data columns (total 15 columns):\n",
      " #   Column                   Dtype  \n",
      "---  ------                   -----  \n",
      " 0   tripduration             object \n",
      " 1   starttime                object \n",
      " 2   stoptime                 object \n",
      " 3   start station id         float64\n",
      " 4   start station name       object \n",
      " 5   start station latitude   float64\n",
      " 6   start station longitude  float64\n",
      " 7   end station id           float64\n",
      " 8   end station name         object \n",
      " 9   end station latitude     float64\n",
      " 10  end station longitude    float64\n",
      " 11  bikeid                   int64  \n",
      " 12  usertype                 object \n",
      " 13  birth year               int64  \n",
      " 14  gender                   int64  \n",
      "dtypes: float64(6), int64(3), object(6)\n",
      "memory usage: 268.3+ MB\n"
     ]
    }
   ],
   "source": [
    "# 4. Check the datatypes of your columns. \n",
    "citibike_tripdata_df.info()"
   ]
  },
  {
   "cell_type": "code",
   "execution_count": 6,
   "metadata": {},
   "outputs": [],
   "source": [
    "# 5. Export the Dataframe as a new CSV file without the index.\n",
    "citibike_tripdata_df.to_csv('cleaned_201908-citibike-tripdata.csv', index=False, encoding='utf8')"
   ]
  },
  {
   "cell_type": "code",
   "execution_count": null,
   "metadata": {},
   "outputs": [],
   "source": []
  }
 ],
 "metadata": {
  "kernelspec": {
   "display_name": "Python 3 (ipykernel)",
   "language": "python",
   "name": "python3"
  },
  "language_info": {
   "codemirror_mode": {
    "name": "ipython",
    "version": 3
   },
   "file_extension": ".py",
   "mimetype": "text/x-python",
   "name": "python",
   "nbconvert_exporter": "python",
   "pygments_lexer": "ipython3",
   "version": "3.9.13"
  }
 },
 "nbformat": 4,
 "nbformat_minor": 4
}
